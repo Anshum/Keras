{
  "nbformat": 4,
  "nbformat_minor": 0,
  "metadata": {
    "colab": {
      "name": "Copy of Keras_1.ipynb",
      "version": "0.3.2",
      "provenance": [],
      "collapsed_sections": [],
      "include_colab_link": true
    },
    "kernelspec": {
      "name": "python3",
      "display_name": "Python 3"
    }
  },
  "cells": [
    {
      "cell_type": "markdown",
      "metadata": {
        "id": "view-in-github",
        "colab_type": "text"
      },
      "source": [
        "<a href=\"https://colab.research.google.com/github/Msanjayds/Keras/blob/master/Classification_Model_using_Keras.ipynb\" target=\"_parent\"><img src=\"https://colab.research.google.com/assets/colab-badge.svg\" alt=\"Open In Colab\"/></a>"
      ]
    },
    {
      "metadata": {
        "id": "lkSeRYMUh9RR",
        "colab_type": "text"
      },
      "cell_type": "markdown",
      "source": [
        "Import the required Libraries"
      ]
    },
    {
      "metadata": {
        "id": "CogBx-dWttFM",
        "colab_type": "code",
        "colab": {}
      },
      "cell_type": "code",
      "source": [
        "from sklearn.metrics import confusion_matrix, precision_score\n",
        "from sklearn.model_selection import train_test_split\n",
        "from keras.layers import Dense,Dropout\n",
        "from keras.models import Sequential\n",
        "from keras.regularizers import l2\n",
        "import matplotlib.pyplot as plt\n",
        "import pandas as pd\n",
        "import numpy as np"
      ],
      "execution_count": 0,
      "outputs": []
    },
    {
      "metadata": {
        "id": "27lYO5FSiFJQ",
        "colab_type": "text"
      },
      "cell_type": "markdown",
      "source": [
        "Extract the data"
      ]
    },
    {
      "metadata": {
        "id": "p7OOx1VG0ALh",
        "colab_type": "code",
        "outputId": "66f024a4-0a98-4949-e871-733e76a71db9",
        "colab": {
          "base_uri": "https://localhost:8080/",
          "height": 226
        }
      },
      "cell_type": "code",
      "source": [
        "file = 'https://raw.githubusercontent.com/jbrownlee/Datasets/master/pima-indians-diabetes.data.csv'\n",
        "\n",
        "data = pd.read_csv(file,names=['pregnancies','glucose','diastolic','triceps','insulin',\n",
        "                                'bmi','dpf','age','diabetes'])\n",
        "data.head()"
      ],
      "execution_count": 255,
      "outputs": [
        {
          "output_type": "execute_result",
          "data": {
            "text/html": [
              "<div>\n",
              "<style scoped>\n",
              "    .dataframe tbody tr th:only-of-type {\n",
              "        vertical-align: middle;\n",
              "    }\n",
              "\n",
              "    .dataframe tbody tr th {\n",
              "        vertical-align: top;\n",
              "    }\n",
              "\n",
              "    .dataframe thead th {\n",
              "        text-align: right;\n",
              "    }\n",
              "</style>\n",
              "<table border=\"1\" class=\"dataframe\">\n",
              "  <thead>\n",
              "    <tr style=\"text-align: right;\">\n",
              "      <th></th>\n",
              "      <th>pregnancies</th>\n",
              "      <th>glucose</th>\n",
              "      <th>diastolic</th>\n",
              "      <th>triceps</th>\n",
              "      <th>insulin</th>\n",
              "      <th>bmi</th>\n",
              "      <th>dpf</th>\n",
              "      <th>age</th>\n",
              "      <th>diabetes</th>\n",
              "    </tr>\n",
              "  </thead>\n",
              "  <tbody>\n",
              "    <tr>\n",
              "      <th>0</th>\n",
              "      <td>6</td>\n",
              "      <td>148</td>\n",
              "      <td>72</td>\n",
              "      <td>35</td>\n",
              "      <td>0</td>\n",
              "      <td>33.6</td>\n",
              "      <td>0.627</td>\n",
              "      <td>50</td>\n",
              "      <td>1</td>\n",
              "    </tr>\n",
              "    <tr>\n",
              "      <th>1</th>\n",
              "      <td>1</td>\n",
              "      <td>85</td>\n",
              "      <td>66</td>\n",
              "      <td>29</td>\n",
              "      <td>0</td>\n",
              "      <td>26.6</td>\n",
              "      <td>0.351</td>\n",
              "      <td>31</td>\n",
              "      <td>0</td>\n",
              "    </tr>\n",
              "    <tr>\n",
              "      <th>2</th>\n",
              "      <td>8</td>\n",
              "      <td>183</td>\n",
              "      <td>64</td>\n",
              "      <td>0</td>\n",
              "      <td>0</td>\n",
              "      <td>23.3</td>\n",
              "      <td>0.672</td>\n",
              "      <td>32</td>\n",
              "      <td>1</td>\n",
              "    </tr>\n",
              "    <tr>\n",
              "      <th>3</th>\n",
              "      <td>1</td>\n",
              "      <td>89</td>\n",
              "      <td>66</td>\n",
              "      <td>23</td>\n",
              "      <td>94</td>\n",
              "      <td>28.1</td>\n",
              "      <td>0.167</td>\n",
              "      <td>21</td>\n",
              "      <td>0</td>\n",
              "    </tr>\n",
              "    <tr>\n",
              "      <th>4</th>\n",
              "      <td>0</td>\n",
              "      <td>137</td>\n",
              "      <td>40</td>\n",
              "      <td>35</td>\n",
              "      <td>168</td>\n",
              "      <td>43.1</td>\n",
              "      <td>2.288</td>\n",
              "      <td>33</td>\n",
              "      <td>1</td>\n",
              "    </tr>\n",
              "  </tbody>\n",
              "</table>\n",
              "</div>"
            ],
            "text/plain": [
              "   pregnancies  glucose  diastolic  triceps  insulin   bmi    dpf  age  \\\n",
              "0            6      148         72       35        0  33.6  0.627   50   \n",
              "1            1       85         66       29        0  26.6  0.351   31   \n",
              "2            8      183         64        0        0  23.3  0.672   32   \n",
              "3            1       89         66       23       94  28.1  0.167   21   \n",
              "4            0      137         40       35      168  43.1  2.288   33   \n",
              "\n",
              "   diabetes  \n",
              "0         1  \n",
              "1         0  \n",
              "2         1  \n",
              "3         0  \n",
              "4         1  "
            ]
          },
          "metadata": {
            "tags": []
          },
          "execution_count": 255
        }
      ]
    },
    {
      "metadata": {
        "id": "dXj6_mcKiXY5",
        "colab_type": "text"
      },
      "cell_type": "markdown",
      "source": [
        "Seperate the input features and the target variable"
      ]
    },
    {
      "metadata": {
        "id": "zHVFD-g0KrDl",
        "colab_type": "code",
        "colab": {}
      },
      "cell_type": "code",
      "source": [
        "x = data.drop(columns=['diabetes'])\n",
        "y = data['diabetes']"
      ],
      "execution_count": 0,
      "outputs": []
    },
    {
      "metadata": {
        "id": "6vGVLyVFieAu",
        "colab_type": "text"
      },
      "cell_type": "markdown",
      "source": [
        "Split the train and test/validation set"
      ]
    },
    {
      "metadata": {
        "id": "kZbWJJ3jt2eC",
        "colab_type": "code",
        "colab": {}
      },
      "cell_type": "code",
      "source": [
        "x_train, x_test, y_train, y_test = train_test_split(x,y, test_size=0.10, random_state=0)\n"
      ],
      "execution_count": 0,
      "outputs": []
    },
    {
      "metadata": {
        "id": "uvKu7VjPt7Ni",
        "colab_type": "code",
        "colab": {
          "base_uri": "https://localhost:8080/",
          "height": 34
        },
        "outputId": "8ab99226-2ae6-46ce-e874-ce78b51ce520"
      },
      "cell_type": "code",
      "source": [
        "x_train.shape,y_train.shape,x_test.shape,y_test.shape"
      ],
      "execution_count": 231,
      "outputs": [
        {
          "output_type": "execute_result",
          "data": {
            "text/plain": [
              "((691, 8), (691,), (77, 8), (77,))"
            ]
          },
          "metadata": {
            "tags": []
          },
          "execution_count": 231
        }
      ]
    },
    {
      "metadata": {
        "id": "Q0VYVJJYikzs",
        "colab_type": "text"
      },
      "cell_type": "markdown",
      "source": [
        "Define the Model - 3 layers (2 hidden layers with 100 nodes each and 1 output layer with a single)"
      ]
    },
    {
      "metadata": {
        "id": "stxkmqGlt7ik",
        "colab_type": "code",
        "colab": {}
      },
      "cell_type": "code",
      "source": [
        "model = Sequential()\n",
        "model.add(Dense(100,activation='relu',input_dim=8,kernel_regularizer=l2(0.01)))\n",
        "model.add(Dropout(0.3, noise_shape=None, seed=None))\n",
        "model.add(Dense(100,activation = 'relu',kernel_regularizer=l2(0.01)))\n",
        "model.add(Dropout(0.3, noise_shape=None, seed=None))\n",
        "model.add(Dense(1,activation='sigmoid'))"
      ],
      "execution_count": 0,
      "outputs": []
    },
    {
      "metadata": {
        "id": "3Q9HNN5BinBi",
        "colab_type": "text"
      },
      "cell_type": "markdown",
      "source": [
        "Compile the Model"
      ]
    },
    {
      "metadata": {
        "id": "1H_NQrFsH-s5",
        "colab_type": "code",
        "colab": {}
      },
      "cell_type": "code",
      "source": [
        "model.compile(loss='binary_crossentropy',optimizer='adam',metrics=['accuracy'])"
      ],
      "execution_count": 0,
      "outputs": []
    },
    {
      "metadata": {
        "id": "__y7DPrdip9R",
        "colab_type": "text"
      },
      "cell_type": "markdown",
      "source": [
        "Check the Model summary"
      ]
    },
    {
      "metadata": {
        "id": "kjj05NNiPSdP",
        "colab_type": "code",
        "colab": {
          "base_uri": "https://localhost:8080/",
          "height": 312
        },
        "outputId": "a12ecf0e-b2cf-4892-b923-b2f41a3e3ac2"
      },
      "cell_type": "code",
      "source": [
        "model.summary()"
      ],
      "execution_count": 247,
      "outputs": [
        {
          "output_type": "stream",
          "text": [
            "_________________________________________________________________\n",
            "Layer (type)                 Output Shape              Param #   \n",
            "=================================================================\n",
            "dense_89 (Dense)             (None, 100)               900       \n",
            "_________________________________________________________________\n",
            "dropout_44 (Dropout)         (None, 100)               0         \n",
            "_________________________________________________________________\n",
            "dense_90 (Dense)             (None, 100)               10100     \n",
            "_________________________________________________________________\n",
            "dropout_45 (Dropout)         (None, 100)               0         \n",
            "_________________________________________________________________\n",
            "dense_91 (Dense)             (None, 1)                 101       \n",
            "=================================================================\n",
            "Total params: 11,101\n",
            "Trainable params: 11,101\n",
            "Non-trainable params: 0\n",
            "_________________________________________________________________\n"
          ],
          "name": "stdout"
        }
      ]
    },
    {
      "metadata": {
        "id": "LRDippbyivPp",
        "colab_type": "text"
      },
      "cell_type": "markdown",
      "source": [
        "Train the Model"
      ]
    },
    {
      "metadata": {
        "id": "8UnLRYf2t7mV",
        "colab_type": "code",
        "colab": {}
      },
      "cell_type": "code",
      "source": [
        "model_output = model.fit(x_train,y_train,epochs=500,batch_size=20,verbose=0,validation_data=(x_test,y_test),)"
      ],
      "execution_count": 0,
      "outputs": []
    },
    {
      "metadata": {
        "id": "3P7geIszt7pt",
        "colab_type": "code",
        "colab": {
          "base_uri": "https://localhost:8080/",
          "height": 52
        },
        "outputId": "c28ea050-023c-4dc7-f742-47fd47e8c79a"
      },
      "cell_type": "code",
      "source": [
        "print('Training Accuracy : ' , np.mean(model_output.history[\"acc\"]))\n",
        "print('Validation Accuracy : ' , np.mean(model_output.history[\"val_acc\"]))"
      ],
      "execution_count": 249,
      "outputs": [
        {
          "output_type": "stream",
          "text": [
            "Training Accuracy :  0.7249146166589601\n",
            "Validation Accuracy :  0.7810389590983267\n"
          ],
          "name": "stdout"
        }
      ]
    },
    {
      "metadata": {
        "id": "uGAzsN6Ci0yQ",
        "colab_type": "text"
      },
      "cell_type": "markdown",
      "source": [
        "Plot the model accuracy over epochs"
      ]
    },
    {
      "metadata": {
        "id": "PSU-jzS7ceMW",
        "colab_type": "code",
        "colab": {
          "base_uri": "https://localhost:8080/",
          "height": 735
        },
        "outputId": "641cb21a-00a9-420a-bd0a-2b533d281283"
      },
      "cell_type": "code",
      "source": [
        "\n",
        "# Plot training & validation accuracy values\n",
        "plt.plot(model_output.history['acc'])\n",
        "plt.plot(model_output.history['val_acc'])\n",
        "plt.title('Model accuracy')\n",
        "plt.ylabel('Accuracy')\n",
        "plt.xlabel('Epoch')\n",
        "plt.legend(['Train', 'Test'], loc='upper left')\n",
        "plt.show()\n",
        "\n",
        "# Plot training & validation loss values\n",
        "plt.plot(model_output.history['loss'])\n",
        "plt.plot(model_output.history['val_loss'])\n",
        "plt.title('model_output loss')\n",
        "plt.ylabel('Loss')\n",
        "plt.xlabel('Epoch')\n",
        "plt.legend(['Train', 'Test'], loc='upper left')\n",
        "plt.show()"
      ],
      "execution_count": 250,
      "outputs": [
        {
          "output_type": "display_data",
          "data": {
            "image/png": "[encoded data removed]",
            "text/plain": [
              "<matplotlib.figure.Figure at 0x7f3615a93208>"
            ]
          },
          "metadata": {
            "tags": []
          }
        },
        {
          "output_type": "display_data",
          "data": {
            "image/png": "[encoded data removed]",
            "text/plain": [
              "<matplotlib.figure.Figure at 0x7f3615a519e8>"
            ]
          },
          "metadata": {
            "tags": []
          }
        }
      ]
    },
    {
      "metadata": {
        "id": "FzZPyM-_i7OP",
        "colab_type": "text"
      },
      "cell_type": "markdown",
      "source": [
        "Do a Prediction and check the precision"
      ]
    },
    {
      "metadata": {
        "id": "kmB9CiyaUchM",
        "colab_type": "code",
        "colab": {}
      },
      "cell_type": "code",
      "source": [
        "y_pred = model.predict(x_test)\n",
        "rounded = [round(x[0]) for x in y_pred]\n",
        "y_pred1 = np.array(rounded,dtype='int64')\n"
      ],
      "execution_count": 0,
      "outputs": []
    },
    {
      "metadata": {
        "id": "DEe-fha2SF1Z",
        "colab_type": "code",
        "colab": {
          "base_uri": "https://localhost:8080/",
          "height": 52
        },
        "outputId": "73cdb201-2d13-4cc6-e60e-1132ff414b67"
      },
      "cell_type": "code",
      "source": [
        "\n",
        "confusion_matrix(y_test,y_pred1)"
      ],
      "execution_count": 257,
      "outputs": [
        {
          "output_type": "execute_result",
          "data": {
            "text/plain": [
              "array([[47,  4],\n",
              "       [ 8, 18]])"
            ]
          },
          "metadata": {
            "tags": []
          },
          "execution_count": 257
        }
      ]
    },
    {
      "metadata": {
        "id": "jmR6nz2QXvye",
        "colab_type": "code",
        "colab": {
          "base_uri": "https://localhost:8080/",
          "height": 34
        },
        "outputId": "2a2a620b-c522-41be-cd1e-d289522f1c21"
      },
      "cell_type": "code",
      "source": [
        "precision_score(y_test,y_pred1)"
      ],
      "execution_count": 254,
      "outputs": [
        {
          "output_type": "execute_result",
          "data": {
            "text/plain": [
              "0.8181818181818182"
            ]
          },
          "metadata": {
            "tags": []
          },
          "execution_count": 254
        }
      ]
    },
    {
      "metadata": {
        "id": "o_RVklPsjPBx",
        "colab_type": "text"
      },
      "cell_type": "markdown",
      "source": [
        "Save the Model"
      ]
    },
    {
      "metadata": {
        "id": "yvYVukPbJxf_",
        "colab_type": "code",
        "colab": {}
      },
      "cell_type": "code",
      "source": [
        "model.save(\"Calssifier.h5\")"
      ],
      "execution_count": 0,
      "outputs": []
    },
    {
      "metadata": {
        "id": "5M-E8WKOJx_F",
        "colab_type": "code",
        "colab": {
          "base_uri": "https://localhost:8080/",
          "height": 34
        },
        "outputId": "4ded8d34-f077-4133-914e-0d1ce4f4e51d"
      },
      "cell_type": "code",
      "source": [
        "!ls"
      ],
      "execution_count": 243,
      "outputs": [
        {
          "output_type": "stream",
          "text": [
            "Calssifier.h5  raw.githubusercontent.com  sample_data\n"
          ],
          "name": "stdout"
        }
      ]
    }
  ]
}